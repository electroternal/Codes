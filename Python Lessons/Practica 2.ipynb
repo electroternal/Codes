{
 "cells": [
  {
   "cell_type": "code",
   "execution_count": 3,
   "metadata": {},
   "outputs": [
    {
     "name": "stdout",
     "output_type": "stream",
     "text": [
      "   |   |   \n",
      "   |   |   \n",
      "   |   |   \n",
      "-----------\n",
      "   |   |   \n",
      "   |   |   \n",
      "   |   |   \n",
      "-----------\n",
      "   |   |   \n",
      "   |   |   \n",
      "   |   |   \n"
     ]
    }
   ],
   "source": [
    "TTTboard = [\" \", \" \", \" \", \"|\", \" \", \" \", \" \", \"|\", \" \", \" \", \" \", \"\\n\",\n",
    "            \" \", \" \", \" \", \"|\", \" \", \" \", \" \", \"|\", \" \", \" \", \" \", \"\\n\",\n",
    "            \" \", \" \", \" \", \"|\", \" \", \" \", \" \", \"|\", \" \", \" \", \" \", \"\\n\",\n",
    "            \"-\", \"-\", \"-\", \"-\", \"-\", \"-\", \"-\", \"-\", \"-\", \"-\", \"-\", \"\\n\",\n",
    "            \" \", \" \", \" \", \"|\", \" \", \" \", \" \", \"|\", \" \", \" \", \" \", \"\\n\",\n",
    "            \" \", \" \", \" \", \"|\", \" \", \" \", \" \", \"|\", \" \", \" \", \" \", \"\\n\",\n",
    "            \" \", \" \", \" \", \"|\", \" \", \" \", \" \", \"|\", \" \", \" \", \" \", \"\\n\",\n",
    "            \"-\", \"-\", \"-\", \"-\", \"-\", \"-\", \"-\", \"-\", \"-\", \"-\", \"-\", \"\\n\",\n",
    "            \" \", \" \", \" \", \"|\", \" \", \" \", \" \", \"|\", \" \", \" \", \" \", \"\\n\",\n",
    "            \" \", \" \", \" \", \"|\", \" \", \" \", \" \", \"|\", \" \", \" \", \" \", \"\\n\",\n",
    "            \" \", \" \", \" \", \"|\", \" \", \" \", \" \", \"|\", \" \", \" \", \" \"]\n",
    "y = \"\"\n",
    "for x in TTTboard:\n",
    "    y += x\n",
    "print(y)\n",
    "    "
   ]
  },
  {
   "cell_type": "code",
   "execution_count": 6,
   "metadata": {},
   "outputs": [
    {
     "name": "stdout",
     "output_type": "stream",
     "text": [
      "   |   |   \n",
      " X | X | X \n",
      "   |   |   \n",
      "-----------\n",
      "   |   |   \n",
      " X | X | X \n",
      "   |   |   \n",
      "-----------\n",
      "   |   |   \n",
      " X | X | X \n",
      "   |   |   \n"
     ]
    }
   ],
   "source": [
    "DicGamSpace = {1:13, 2:17, 3:21, 4:61, 5:65, 6:69, 7:109, 8:113, 9:117}\n",
    "GameSpace = [13, 17, 21, 61, 65, 69, 109, 113, 117]\n",
    "for x in GameSpace:\n",
    "    TTTboard[x] = \"X\"\n",
    "y = \"\"\n",
    "for x in TTTboard:\n",
    "    y += x\n",
    "print(y)"
   ]
  },
  {
   "cell_type": "code",
   "execution_count": 14,
   "metadata": {},
   "outputs": [
    {
     "name": "stdout",
     "output_type": "stream",
     "text": [
      "seleccione del 1 al 9 => 20\n",
      "wrong number\n"
     ]
    }
   ],
   "source": [
    "SpaceSelect = int(input(\"seleccione del 1 al 9 => \"))\n",
    "if SpaceSelect in DicGamSpace:\n",
    "    print(DicGamSpace[SpaceSelect])\n",
    "else:\n",
    "    print(\"wrong number\")"
   ]
  },
  {
   "cell_type": "code",
   "execution_count": 17,
   "metadata": {},
   "outputs": [],
   "source": [
    "def processInput (num):\n",
    "    num = int(num)\n",
    "    if num in DicGamSpace:\n",
    "        if \n",
    "            \n",
    "    "
   ]
  },
  {
   "cell_type": "code",
   "execution_count": 18,
   "metadata": {},
   "outputs": [
    {
     "data": {
      "text/plain": [
       "13"
      ]
     },
     "execution_count": 18,
     "metadata": {},
     "output_type": "execute_result"
    }
   ],
   "source": [
    "TTTboard[DicGamSpace[1]] = \"X\""
   ]
  },
  {
   "cell_type": "code",
   "execution_count": 25,
   "metadata": {},
   "outputs": [],
   "source": [
    "def BoardInstructions():\n",
    "    board = TTTboard\n",
    "    Posboard = \"\"\n",
    "    SelectNum = 1\n",
    "    for x in GameSpace:\n",
    "        board[x] = str(SelectNum)\n",
    "        SelectNum += 1\n",
    "    for x in board:\n",
    "        Posboard += x\n",
    "    return print(Posboard)"
   ]
  },
  {
   "cell_type": "code",
   "execution_count": 26,
   "metadata": {},
   "outputs": [
    {
     "name": "stdout",
     "output_type": "stream",
     "text": [
      "   |   |   \n",
      " 1 | 2 | 3 \n",
      "   |   |   \n",
      "-----------\n",
      "   |   |   \n",
      " 4 | 5 | 6 \n",
      "   |   |   \n",
      "-----------\n",
      "   |   |   \n",
      " 7 | 8 | 9 \n",
      "   |   |   \n"
     ]
    }
   ],
   "source": [
    "BoardInstructions()"
   ]
  },
  {
   "cell_type": "code",
   "execution_count": 51,
   "metadata": {},
   "outputs": [],
   "source": [
    "def printXOtabla(value, player):\n",
    "    #imprime X u O en la tabla dependiendo el indice y el jugador Xply o Oply\n",
    "    if player == 'Xply':\n",
    "        if value in DicGamSpace:\n",
    "            TTTboard[DicGamSpace[value]] = \"X\"\n",
    "        else:\n",
    "            return print(\"input Number not between 1 to 9\")\n",
    "    elif player == \"Oply\":\n",
    "        if value in DicGamSpace:\n",
    "            TTTboard[DicGamSpace[value]] = \"O\"\n",
    "        else:\n",
    "            return print(\"input Number not between 1 to 9\")\n",
    "    \n",
    "    board = \"\"\n",
    "    for x in TTTboard:\n",
    "        board += x\n",
    "    return print(board)"
   ]
  },
  {
   "cell_type": "code",
   "execution_count": 52,
   "metadata": {
    "scrolled": true
   },
   "outputs": [
    {
     "name": "stdout",
     "output_type": "stream",
     "text": [
      " X |   |   \n",
      " O | O | O \n",
      "   |   |   \n",
      "-----------\n",
      "   |   |   \n",
      " O | O | O \n",
      "   |   |   \n",
      "-----------\n",
      "   |   |   \n",
      " O | O | X \n",
      "   |   |   \n"
     ]
    }
   ],
   "source": [
    "printXOtabla(9,\"Xply\")"
   ]
  },
  {
   "cell_type": "code",
   "execution_count": 63,
   "metadata": {},
   "outputs": [],
   "source": [
    "from random import *"
   ]
  },
  {
   "cell_type": "code",
   "execution_count": 92,
   "metadata": {},
   "outputs": [
    {
     "name": "stdout",
     "output_type": "stream",
     "text": [
      "1\n"
     ]
    }
   ],
   "source": [
    "print(randint(1,2))"
   ]
  },
  {
   "cell_type": "code",
   "execution_count": 93,
   "metadata": {},
   "outputs": [],
   "source": [
    "def SelRandPlayer(num):\n",
    "    randnum = 0\n",
    "    if num == 1 or num == 2:\n",
    "        randnum = randint(1,2)\n",
    "        if randnum == 1:\n",
    "            return \"Xply\"\n",
    "        else:\n",
    "            return \"Oply\"\n",
    "    else:\n",
    "        return 0"
   ]
  },
  {
   "cell_type": "code",
   "execution_count": 100,
   "metadata": {},
   "outputs": [
    {
     "data": {
      "text/plain": [
       "'Xply'"
      ]
     },
     "execution_count": 100,
     "metadata": {},
     "output_type": "execute_result"
    }
   ],
   "source": [
    "SelRandPlayer(1)"
   ]
  },
  {
   "cell_type": "code",
   "execution_count": 11,
   "metadata": {},
   "outputs": [],
   "source": [
    "import random"
   ]
  },
  {
   "cell_type": "code",
   "execution_count": 116,
   "metadata": {},
   "outputs": [
    {
     "data": {
      "text/plain": [
       "4"
      ]
     },
     "execution_count": 116,
     "metadata": {},
     "output_type": "execute_result"
    }
   ],
   "source": [
    "random.randrange(1,10)"
   ]
  },
  {
   "cell_type": "code",
   "execution_count": 121,
   "metadata": {},
   "outputs": [
    {
     "name": "stdout",
     "output_type": "stream",
     "text": [
      "Hola\n",
      "Mundo\n"
     ]
    }
   ],
   "source": [
    "print(\"Hola\\nMundo\")"
   ]
  },
  {
   "cell_type": "code",
   "execution_count": 125,
   "metadata": {},
   "outputs": [
    {
     "name": "stdout",
     "output_type": "stream",
     "text": [
      "no está\n"
     ]
    }
   ],
   "source": [
    "x = [1,2,3]\n",
    "y = 5\n",
    "if y not in x:\n",
    "    print(\"no está\")\n",
    "else:\n",
    "    print(\"está\")"
   ]
  },
  {
   "cell_type": "code",
   "execution_count": 180,
   "metadata": {},
   "outputs": [],
   "source": [
    "ax = [1,3,8,9,4,7]\n",
    "checkWon = {1:[1,2,3], 2:[4,5,6], 3:[7,8,9], 4:[1,4,7], 5:[2,5,8], 6:[3,6,9], 7:[1,5,9], 8:[3,5,7]}"
   ]
  },
  {
   "cell_type": "code",
   "execution_count": 183,
   "metadata": {},
   "outputs": [],
   "source": [
    "def checklist(num1):\n",
    "    for x in checkWon:\n",
    "        set1 = checkWon[x]\n",
    "        set2 = set(num1) & set(set1)\n",
    "        print(set2)\n",
    "        if len(set2) == 3:\n",
    "            return print(\"Won\")\n",
    "    return print(\"lose\")"
   ]
  },
  {
   "cell_type": "code",
   "execution_count": 184,
   "metadata": {},
   "outputs": [
    {
     "name": "stdout",
     "output_type": "stream",
     "text": [
      "{1, 3}\n",
      "{4}\n",
      "{8, 9, 7}\n",
      "Won\n"
     ]
    }
   ],
   "source": [
    "checklist(ax)"
   ]
  },
  {
   "cell_type": "code",
   "execution_count": 45,
   "metadata": {},
   "outputs": [
    {
     "name": "stdout",
     "output_type": "stream",
     "text": [
      "10\n"
     ]
    }
   ],
   "source": [
    "x = [1,2,3,4,5,6,7,8,9,10]\n",
    "print(len(x))"
   ]
  },
  {
   "cell_type": "code",
   "execution_count": 49,
   "metadata": {},
   "outputs": [
    {
     "name": "stdout",
     "output_type": "stream",
     "text": [
      "YeS\n"
     ]
    }
   ],
   "source": [
    "x = \"YeS\"\n",
    "if x.lower() == \"yes\":\n",
    "    print(x)"
   ]
  },
  {
   "cell_type": "code",
   "execution_count": 31,
   "metadata": {},
   "outputs": [
    {
     "name": "stdout",
     "output_type": "stream",
     "text": [
      "1\n"
     ]
    }
   ],
   "source": [
    "randnum = random.randrange(1,3)\n",
    "print(randnum)"
   ]
  },
  {
   "cell_type": "code",
   "execution_count": null,
   "metadata": {},
   "outputs": [],
   "source": []
  },
  {
   "cell_type": "code",
   "execution_count": null,
   "metadata": {},
   "outputs": [],
   "source": []
  }
 ],
 "metadata": {
  "kernelspec": {
   "display_name": "Python 3",
   "language": "python",
   "name": "python3"
  },
  "language_info": {
   "codemirror_mode": {
    "name": "ipython",
    "version": 3
   },
   "file_extension": ".py",
   "mimetype": "text/x-python",
   "name": "python",
   "nbconvert_exporter": "python",
   "pygments_lexer": "ipython3",
   "version": "3.7.7"
  }
 },
 "nbformat": 4,
 "nbformat_minor": 4
}

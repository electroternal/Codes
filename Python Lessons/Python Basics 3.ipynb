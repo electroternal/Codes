{
 "cells": [
  {
   "cell_type": "markdown",
   "metadata": {},
   "source": [
    "# for loops"
   ]
  },
  {
   "cell_type": "code",
   "execution_count": 1,
   "metadata": {},
   "outputs": [
    {
     "name": "stdout",
     "output_type": "stream",
     "text": [
      "1\n",
      "2\n",
      "3\n",
      "4\n",
      "5\n",
      "6\n",
      "7\n",
      "8\n",
      "9\n",
      "10\n"
     ]
    }
   ],
   "source": [
    "myList = [1,2,3,4,5,6,7,8,9,10]\n",
    "for x in myList:\n",
    "    print(x)"
   ]
  },
  {
   "cell_type": "code",
   "execution_count": 2,
   "metadata": {},
   "outputs": [
    {
     "name": "stdout",
     "output_type": "stream",
     "text": [
      "a\n",
      "b\n",
      "c\n",
      "d\n"
     ]
    }
   ],
   "source": [
    "myString = ['a', 'b', 'c', 'd']\n",
    "for x in myString:\n",
    "    print(x)"
   ]
  },
  {
   "cell_type": "code",
   "execution_count": 4,
   "metadata": {},
   "outputs": [
    {
     "name": "stdout",
     "output_type": "stream",
     "text": [
      "f\n",
      "o\n",
      "r\n",
      " \n",
      "l\n",
      "o\n",
      "o\n",
      "p\n"
     ]
    }
   ],
   "source": [
    "myString = \"for loop\"\n",
    "for x in myString:\n",
    "    print(x)"
   ]
  },
  {
   "cell_type": "code",
   "execution_count": 5,
   "metadata": {},
   "outputs": [
    {
     "name": "stdout",
     "output_type": "stream",
     "text": [
      "El 1 no es numero par\n",
      "2\n",
      "El 3 no es numero par\n",
      "4\n",
      "El 5 no es numero par\n",
      "6\n",
      "El 7 no es numero par\n",
      "8\n",
      "El 9 no es numero par\n",
      "10\n"
     ]
    }
   ],
   "source": [
    "myList = [1,2,3,4,5,6,7,8,9,10]\n",
    "for num in myList:\n",
    "    #check for even\n",
    "    if num % 2 == 0:\n",
    "        print(num)\n",
    "    else:\n",
    "        print(f\"El {num} no es numero par\")"
   ]
  },
  {
   "cell_type": "code",
   "execution_count": 10,
   "metadata": {},
   "outputs": [
    {
     "name": "stdout",
     "output_type": "stream",
     "text": [
      "(1, 2)\n",
      "(3, 4)\n",
      "(5, 6)\n",
      "(7, 8)\n"
     ]
    }
   ],
   "source": [
    "otraLista = [(1,2),(3,4),(5,6),(7,8)]\n",
    "\n",
    "for x in otraLista:\n",
    "    print(x)"
   ]
  },
  {
   "cell_type": "code",
   "execution_count": 12,
   "metadata": {},
   "outputs": [
    {
     "name": "stdout",
     "output_type": "stream",
     "text": [
      "1\n",
      "2\n",
      "3\n",
      "4\n",
      "5\n",
      "6\n",
      "7\n",
      "8\n"
     ]
    }
   ],
   "source": [
    "lista1 = [(1,2),(3,4),(5,6),(7,8)]\n",
    "#tuple unpacking\n",
    "for (a,b) in lista1:\n",
    "    print(a)\n",
    "    print(b)"
   ]
  },
  {
   "cell_type": "code",
   "execution_count": 19,
   "metadata": {},
   "outputs": [
    {
     "name": "stdout",
     "output_type": "stream",
     "text": [
      "2\n",
      "5\n",
      "7\n",
      "9\n"
     ]
    }
   ],
   "source": [
    "lista1 = [(1,2,3),(4,5,10),(6,7,12),(8,9,13)]\n",
    "#tuple unpacking\n",
    "for (a,b,c) in lista1:\n",
    "    print(b)"
   ]
  },
  {
   "cell_type": "code",
   "execution_count": 29,
   "metadata": {},
   "outputs": [
    {
     "name": "stdout",
     "output_type": "stream",
     "text": [
      "('key1', 1)\n",
      "('key2', 2)\n",
      "('key3', 3)\n",
      "('key4', 4)\n"
     ]
    }
   ],
   "source": [
    "lista2 = {\"key1\":1, \"key2\":2, \"key3\":3, \"key4\":4}\n",
    "#imprime como las tuplas\n",
    "for x in lista2.items():\n",
    "    print(x)\n"
   ]
  },
  {
   "cell_type": "code",
   "execution_count": 30,
   "metadata": {},
   "outputs": [
    {
     "name": "stdout",
     "output_type": "stream",
     "text": [
      "1\n",
      "2\n",
      "3\n",
      "4\n"
     ]
    }
   ],
   "source": [
    "lista3 = {\"key1\":1, \"key2\":2, \"key3\":3, \"key4\":4}\n",
    "#pone solo los valores dentro del key\n",
    "for key,value in lista3.items():\n",
    "    print(value)\n"
   ]
  },
  {
   "cell_type": "code",
   "execution_count": 32,
   "metadata": {},
   "outputs": [
    {
     "name": "stdout",
     "output_type": "stream",
     "text": [
      "1\n",
      "2\n",
      "3\n",
      "4\n"
     ]
    }
   ],
   "source": [
    "lista4 = {\"key1\":1, \"key2\":2, \"key3\":3, \"key4\":4}\n",
    "#pone solo los valores dentro del key\n",
    "for x in lista4.values():\n",
    "    print(x)"
   ]
  },
  {
   "cell_type": "markdown",
   "metadata": {},
   "source": [
    "# while loops"
   ]
  },
  {
   "cell_type": "code",
   "execution_count": 38,
   "metadata": {},
   "outputs": [
    {
     "name": "stdout",
     "output_type": "stream",
     "text": [
      "El 0 no es mayor que 5\n",
      "El 1 no es mayor que 5\n",
      "El 2 no es mayor que 5\n",
      "El 3 no es mayor que 5\n",
      "El 4 no es mayor que 5\n"
     ]
    }
   ],
   "source": [
    "x = 0\n",
    "\n",
    "while x < 5:\n",
    "    print(f\"El {x} no es mayor que 5\")\n",
    "    x += 1"
   ]
  },
  {
   "cell_type": "markdown",
   "metadata": {},
   "source": [
    "### brake, continue pass en while"
   ]
  },
  {
   "cell_type": "code",
   "execution_count": 40,
   "metadata": {},
   "outputs": [],
   "source": [
    "x = [1,2,3]\n",
    "\n",
    "for item in x:\n",
    "    # para seguir con el script para no tener el error de sintaxis\n",
    "    pass"
   ]
  },
  {
   "cell_type": "code",
   "execution_count": 41,
   "metadata": {},
   "outputs": [
    {
     "name": "stdout",
     "output_type": "stream",
     "text": [
      "S\n",
      "a\n",
      "u\n",
      "e\n",
      "l\n"
     ]
    }
   ],
   "source": [
    "x = \"Samuel\"\n",
    "for strings in x:\n",
    "    if strings == \"m\":\n",
    "        continue # continua al principio del for sin terminarlo\n",
    "    print(strings)"
   ]
  },
  {
   "cell_type": "code",
   "execution_count": 42,
   "metadata": {},
   "outputs": [
    {
     "name": "stdout",
     "output_type": "stream",
     "text": [
      "0\n",
      "1\n",
      "2\n"
     ]
    }
   ],
   "source": [
    "x = 0\n",
    "\n",
    "while x < 5:\n",
    "    if x == 3:\n",
    "        break # Rompe el loop al llegar al break\n",
    "    print(x)\n",
    "    x += 1"
   ]
  },
  {
   "cell_type": "code",
   "execution_count": null,
   "metadata": {},
   "outputs": [],
   "source": []
  }
 ],
 "metadata": {
  "kernelspec": {
   "display_name": "Python 3",
   "language": "python",
   "name": "python3"
  },
  "language_info": {
   "codemirror_mode": {
    "name": "ipython",
    "version": 3
   },
   "file_extension": ".py",
   "mimetype": "text/x-python",
   "name": "python",
   "nbconvert_exporter": "python",
   "pygments_lexer": "ipython3",
   "version": "3.7.7"
  }
 },
 "nbformat": 4,
 "nbformat_minor": 4
}

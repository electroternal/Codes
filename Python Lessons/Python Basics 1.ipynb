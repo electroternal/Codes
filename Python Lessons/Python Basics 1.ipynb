{
 "cells": [
  {
   "cell_type": "code",
   "execution_count": 1,
   "metadata": {},
   "outputs": [
    {
     "name": "stdout",
     "output_type": "stream",
     "text": [
      "Hello world\n"
     ]
    }
   ],
   "source": [
    "print(\"Hello world\")"
   ]
  },
  {
   "cell_type": "markdown",
   "metadata": {},
   "source": [
    "# esto es una Prueba"
   ]
  },
  {
   "cell_type": "code",
   "execution_count": 3,
   "metadata": {},
   "outputs": [
    {
     "name": "stdout",
     "output_type": "stream",
     "text": [
      "3\n"
     ]
    }
   ],
   "source": [
    "x = 1\n",
    "y = 2\n",
    "z = x + y\n",
    "print(z)"
   ]
  },
  {
   "cell_type": "markdown",
   "metadata": {},
   "source": [
    "# Titulo\n",
    "\n",
    "- punto uno\n",
    "- punto dos"
   ]
  },
  {
   "cell_type": "code",
   "execution_count": 5,
   "metadata": {},
   "outputs": [
    {
     "data": {
      "text/plain": [
       "int"
      ]
     },
     "execution_count": 5,
     "metadata": {},
     "output_type": "execute_result"
    }
   ],
   "source": [
    "type(len(\"hello\"))"
   ]
  },
  {
   "cell_type": "markdown",
   "metadata": {},
   "source": [
    "- Un ejercicio de practica"
   ]
  },
  {
   "cell_type": "code",
   "execution_count": 27,
   "metadata": {},
   "outputs": [
    {
     "name": "stdout",
     "output_type": "stream",
     "text": [
      "40\n",
      "____________________\n",
      "e\n",
      "____________________\n",
      "7\n"
     ]
    }
   ],
   "source": [
    "frase = \"es to es una prueba para contar espacios\"\n",
    "length = len(frase)\n",
    "print(length)\n",
    "print(\"____________________\")\n",
    "#_________________________________\n",
    "letter_of_frase = frase[0]\n",
    "print(letter_of_frase)\n",
    "print(\"____________________\")\n",
    "#_________________________________\n",
    "counts = 0\n",
    "for x in range(length):\n",
    "    if frase[x] == \" \":\n",
    "        counts += 1\n",
    "print(counts)"
   ]
  },
  {
   "cell_type": "code",
   "execution_count": 36,
   "metadata": {},
   "outputs": [
    {
     "name": "stdout",
     "output_type": "stream",
     "text": [
      "abcdefghijk\n",
      "a\n",
      "b\n",
      "c\n",
      "d\n",
      "e\n",
      "f\n",
      "g\n",
      "h\n",
      "i\n",
      "j\n",
      "k\n"
     ]
    }
   ],
   "source": [
    "#para imprimir todo el string sin saber la cantidad\n",
    "mystring = \"abcdefghijk\"\n",
    "mystring_length = len(mystring)\n",
    "print(mystring)\n",
    "for x in range(mystring_length):\n",
    "    print(mystring[x])"
   ]
  },
  {
   "cell_type": "code",
   "execution_count": 40,
   "metadata": {},
   "outputs": [
    {
     "name": "stdout",
     "output_type": "stream",
     "text": [
      "Pam\n",
      "P am\n"
     ]
    }
   ],
   "source": [
    "name = \"Sam\"\n",
    "last_leters = name[1:]\n",
    "print(\"P\" + last_leters)\n",
    "print(\"P\", last_leters)"
   ]
  },
  {
   "cell_type": "code",
   "execution_count": 53,
   "metadata": {},
   "outputs": [
    {
     "name": "stdout",
     "output_type": "stream",
     "text": [
      "PALABRA\n",
      "Palabra\n",
      "palabra\n",
      "palabra\n"
     ]
    }
   ],
   "source": [
    "x = \"palABra\"\n",
    "# todas en mayusculas\n",
    "print(x.upper())\n",
    "#pone la primera en mayuscula\n",
    "print(x.capitalize())\n",
    "#case Fold y lower hacen lo mismo pero lower se puede usar con simbolos\n",
    "print(x.casefold())\n",
    "print(x.lower())"
   ]
  },
  {
   "cell_type": "code",
   "execution_count": 63,
   "metadata": {},
   "outputs": [
    {
     "name": "stdout",
     "output_type": "stream",
     "text": [
      "3\n"
     ]
    }
   ],
   "source": [
    "#cuenta cuantas cosas están un una lista\n",
    "x = [\"apple\", \"tree\", \"apple\", \"building\",\"pope\", \"apple\"]\n",
    "# .count dice cuantas veces está apple\n",
    "print(x.count(\"apple\"))"
   ]
  },
  {
   "cell_type": "code",
   "execution_count": 64,
   "metadata": {},
   "outputs": [
    {
     "name": "stdout",
     "output_type": "stream",
     "text": [
      "['apple', 'tree', 'apple', 'building', 'pope', 'apple']\n"
     ]
    }
   ],
   "source": [
    "x = [\"apple\", \"tree\", \"apple\"]\n",
    "y = [\"building\",\"pope\", \"apple\"]\n",
    "# .extend une lalista x con la y\n",
    "x.extend(y)\n",
    "print(x)"
   ]
  },
  {
   "cell_type": "code",
   "execution_count": 69,
   "metadata": {},
   "outputs": [
    {
     "name": "stdout",
     "output_type": "stream",
     "text": [
      "['Esto', 'es', 'una', 'oración', 'de', 'prueba']\n",
      "Esto\n",
      "es\n",
      "una\n",
      "oración\n",
      "de\n",
      "prueba\n"
     ]
    }
   ],
   "source": [
    "#split divide el estring por espacio, sile pones una letra entre los parentesis lo dividirá por esa letra\n",
    "x = \"Esto es una oración de prueba\"\n",
    "y = x.split()\n",
    "print(y)\n",
    "t_Total = len(y)\n",
    "for w in range(t_Total):\n",
    "    print(y[w])"
   ]
  },
  {
   "cell_type": "markdown",
   "metadata": {},
   "source": [
    "## String Formating"
   ]
  },
  {
   "cell_type": "code",
   "execution_count": 72,
   "metadata": {},
   "outputs": [
    {
     "name": "stdout",
     "output_type": "stream",
     "text": [
      "La Gobernadora es una pinocha y embustera\n"
     ]
    }
   ],
   "source": [
    "print(\"La {2} es una {1} y {0}\".format(\"embustera\", \"pinocha\", \"Gobernadora\"))"
   ]
  },
  {
   "cell_type": "code",
   "execution_count": 73,
   "metadata": {},
   "outputs": [
    {
     "name": "stdout",
     "output_type": "stream",
     "text": [
      "La Gobernadora es una pinocha y embustera\n"
     ]
    }
   ],
   "source": [
    "print(\"La {g} es una {p} y {e}\".format(e=\"embustera\", p=\"pinocha\", g=\"Gobernadora\"))"
   ]
  },
  {
   "cell_type": "markdown",
   "metadata": {},
   "source": [
    "## Float formatting Follows \"{value:with.precicion f }\""
   ]
  },
  {
   "cell_type": "code",
   "execution_count": 76,
   "metadata": {},
   "outputs": [
    {
     "name": "stdout",
     "output_type": "stream",
     "text": [
      "el resultado de la operación es 0.1287001287001287\n"
     ]
    }
   ],
   "source": [
    "result = 100/777\n",
    "print(\"el resultado de la operación es {r}\".format(r=result))"
   ]
  },
  {
   "cell_type": "code",
   "execution_count": 97,
   "metadata": {},
   "outputs": [
    {
     "name": "stdout",
     "output_type": "stream",
     "text": [
      "el resultado de la operación es 0.1287\n"
     ]
    }
   ],
   "source": [
    "# {valor:cuantos espacios.cuantos puntos decimales}\n",
    "print(\"el resultado de la operación es {r:6.4f}\".format(r=result))"
   ]
  },
  {
   "cell_type": "markdown",
   "metadata": {},
   "source": [
    "___"
   ]
  },
  {
   "cell_type": "code",
   "execution_count": 98,
   "metadata": {},
   "outputs": [
    {
     "name": "stdout",
     "output_type": "stream",
     "text": [
      "['uno', 'dos', 'tres', 'cuatro', 'cinco']\n"
     ]
    }
   ],
   "source": [
    "MyList = [\"uno\", \"dos\", \"tres\", \"cuatro\"]\n",
    "# .append añade alfinal de la lista\n",
    "MyList.append(\"cinco\")\n",
    "print(MyList)"
   ]
  },
  {
   "cell_type": "code",
   "execution_count": 99,
   "metadata": {},
   "outputs": [
    {
     "name": "stdout",
     "output_type": "stream",
     "text": [
      "['cero', 'uno', 'dos', 'tres', 'cuatro', 'cinco']\n"
     ]
    }
   ],
   "source": [
    "# añade al indice seleccionado y lo demás lo mueve a la derecha\n",
    "MyList.insert(0, \"cero\")\n",
    "print(MyList)"
   ]
  },
  {
   "cell_type": "code",
   "execution_count": 102,
   "metadata": {},
   "outputs": [
    {
     "name": "stdout",
     "output_type": "stream",
     "text": [
      "[1, 2, 3, 5, 6, 8]\n",
      "['a', 'b', 'c', 'd', 'e']\n"
     ]
    }
   ],
   "source": [
    "#para ordenar strings o numeros. la funcion no de vuelve nada no se puede poner nada a una variable\n",
    "# cambia el orden de la lista desde ese punto\n",
    "Mynum = [5, 2, 6, 8, 3, 1]\n",
    "Mynum.sort()\n",
    "print(Mynum)\n",
    "\n",
    "Mystring = [\"d\", \"c\", \"a\", \"b\", \"e\"]\n",
    "Mystring.sort()\n",
    "print(Mystring)"
   ]
  },
  {
   "cell_type": "code",
   "execution_count": 103,
   "metadata": {},
   "outputs": [
    {
     "name": "stdout",
     "output_type": "stream",
     "text": [
      "['a', 'b', 'c', 'd']\n"
     ]
    }
   ],
   "source": [
    "# pop borra lo último de la lista\n",
    "Mystring.pop()\n",
    "print(Mystring)"
   ]
  },
  {
   "cell_type": "code",
   "execution_count": 104,
   "metadata": {},
   "outputs": [
    {
     "name": "stdout",
     "output_type": "stream",
     "text": [
      "[8, 6, 5, 3, 2, 1]\n"
     ]
    }
   ],
   "source": [
    "#para poner en orden de atras hacia alante\n",
    "Mynum.reverse()\n",
    "print(Mynum)"
   ]
  },
  {
   "cell_type": "markdown",
   "metadata": {},
   "source": [
    "# Diccionarios"
   ]
  },
  {
   "cell_type": "code",
   "execution_count": 106,
   "metadata": {},
   "outputs": [
    {
     "name": "stdout",
     "output_type": "stream",
     "text": [
      "6.0\n"
     ]
    }
   ],
   "source": [
    "price_list = {'Manzana':2.99, 'leche':6.00, 'café':5.99}\n",
    "print(price_list['leche'])\n"
   ]
  },
  {
   "cell_type": "code",
   "execution_count": 121,
   "metadata": {},
   "outputs": [
    {
     "name": "stdout",
     "output_type": "stream",
     "text": [
      "B\n"
     ]
    }
   ],
   "source": [
    "#el print toma el valor de lista, de la lista saca la letra en index 1 y la pone mayuscula\n",
    "dic1 = {'Manzana':2.99, 'leche':6.00, 'café':5.99, 'lista':['a', 'b', 'c']}\n",
    "print(dic1['lista'][1].upper())"
   ]
  },
  {
   "cell_type": "code",
   "execution_count": 122,
   "metadata": {},
   "outputs": [
    {
     "name": "stdout",
     "output_type": "stream",
     "text": [
      "{'Manzana': 2.99, 'leche': 6.0, 'café': 5.99, 'lista': ['A', 'b', 'c'], 'coca-cola': 0.75}\n"
     ]
    }
   ],
   "source": [
    "dic1['lista'][0] = 'A'\n",
    "dic1['coca-cola'] = 0.75\n",
    "print(dic1)"
   ]
  },
  {
   "cell_type": "code",
   "execution_count": null,
   "metadata": {},
   "outputs": [],
   "source": []
  }
 ],
 "metadata": {
  "kernelspec": {
   "display_name": "Python 3",
   "language": "python",
   "name": "python3"
  },
  "language_info": {
   "codemirror_mode": {
    "name": "ipython",
    "version": 3
   },
   "file_extension": ".py",
   "mimetype": "text/x-python",
   "name": "python",
   "nbconvert_exporter": "python",
   "pygments_lexer": "ipython3",
   "version": "3.7.7"
  }
 },
 "nbformat": 4,
 "nbformat_minor": 4
}

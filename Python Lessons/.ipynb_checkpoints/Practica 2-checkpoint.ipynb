{
 "cells": [
  {
   "cell_type": "code",
   "execution_count": 3,
   "metadata": {},
   "outputs": [
    {
     "name": "stdout",
     "output_type": "stream",
     "text": [
      "   |   |   \n",
      "   |   |   \n",
      "   |   |   \n",
      "-----------\n",
      "   |   |   \n",
      "   |   |   \n",
      "   |   |   \n",
      "-----------\n",
      "   |   |   \n",
      "   |   |   \n",
      "   |   |   \n"
     ]
    }
   ],
   "source": [
    "TTTboard = [\" \", \" \", \" \", \"|\", \" \", \" \", \" \", \"|\", \" \", \" \", \" \", \"\\n\",\n",
    "            \" \", \" \", \" \", \"|\", \" \", \" \", \" \", \"|\", \" \", \" \", \" \", \"\\n\",\n",
    "            \" \", \" \", \" \", \"|\", \" \", \" \", \" \", \"|\", \" \", \" \", \" \", \"\\n\",\n",
    "            \"-\", \"-\", \"-\", \"-\", \"-\", \"-\", \"-\", \"-\", \"-\", \"-\", \"-\", \"\\n\",\n",
    "            \" \", \" \", \" \", \"|\", \" \", \" \", \" \", \"|\", \" \", \" \", \" \", \"\\n\",\n",
    "            \" \", \" \", \" \", \"|\", \" \", \" \", \" \", \"|\", \" \", \" \", \" \", \"\\n\",\n",
    "            \" \", \" \", \" \", \"|\", \" \", \" \", \" \", \"|\", \" \", \" \", \" \", \"\\n\",\n",
    "            \"-\", \"-\", \"-\", \"-\", \"-\", \"-\", \"-\", \"-\", \"-\", \"-\", \"-\", \"\\n\",\n",
    "            \" \", \" \", \" \", \"|\", \" \", \" \", \" \", \"|\", \" \", \" \", \" \", \"\\n\",\n",
    "            \" \", \" \", \" \", \"|\", \" \", \" \", \" \", \"|\", \" \", \" \", \" \", \"\\n\",\n",
    "            \" \", \" \", \" \", \"|\", \" \", \" \", \" \", \"|\", \" \", \" \", \" \"]\n",
    "y = \"\"\n",
    "for x in TTTboard:\n",
    "    y += x\n",
    "print(y)\n",
    "    "
   ]
  },
  {
   "cell_type": "code",
   "execution_count": 6,
   "metadata": {},
   "outputs": [
    {
     "name": "stdout",
     "output_type": "stream",
     "text": [
      "   |   |   \n",
      " X | X | X \n",
      "   |   |   \n",
      "-----------\n",
      "   |   |   \n",
      " X | X | X \n",
      "   |   |   \n",
      "-----------\n",
      "   |   |   \n",
      " X | X | X \n",
      "   |   |   \n"
     ]
    }
   ],
   "source": [
    "DicGamSpace = {1:13, 2:17, 3:21, 4:61, 5:65, 6:69, 7:109, 8:113, 9:117}\n",
    "GameSpace = [13, 17, 21, 61, 65, 69, 109, 113, 117]\n",
    "for x in GameSpace:\n",
    "    TTTboard[x] = \"X\"\n",
    "y = \"\"\n",
    "for x in TTTboard:\n",
    "    y += x\n",
    "print(y)"
   ]
  },
  {
   "cell_type": "code",
   "execution_count": 14,
   "metadata": {},
   "outputs": [
    {
     "name": "stdout",
     "output_type": "stream",
     "text": [
      "seleccione del 1 al 9 => 20\n",
      "wrong number\n"
     ]
    }
   ],
   "source": [
    "SpaceSelect = int(input(\"seleccione del 1 al 9 => \"))\n",
    "if SpaceSelect in DicGamSpace:\n",
    "    print(DicGamSpace[SpaceSelect])\n",
    "else:\n",
    "    print(\"wrong number\")"
   ]
  },
  {
   "cell_type": "code",
   "execution_count": 17,
   "metadata": {},
   "outputs": [],
   "source": [
    "def processInput (num):\n",
    "    num = int(num)\n",
    "    if num in DicGamSpace:\n",
    "        if \n",
    "            \n",
    "    "
   ]
  },
  {
   "cell_type": "code",
   "execution_count": 18,
   "metadata": {},
   "outputs": [
    {
     "data": {
      "text/plain": [
       "13"
      ]
     },
     "execution_count": 18,
     "metadata": {},
     "output_type": "execute_result"
    }
   ],
   "source": [
    "TTTboard[DicGamSpace[1]] = \"X\""
   ]
  },
  {
   "cell_type": "code",
   "execution_count": 25,
   "metadata": {},
   "outputs": [],
   "source": [
    "def BoardInstructions():\n",
    "    board = TTTboard\n",
    "    Posboard = \"\"\n",
    "    SelectNum = 1\n",
    "    for x in GameSpace:\n",
    "        board[x] = str(SelectNum)\n",
    "        SelectNum += 1\n",
    "    for x in board:\n",
    "        Posboard += x\n",
    "    return print(Posboard)"
   ]
  },
  {
   "cell_type": "code",
   "execution_count": 26,
   "metadata": {},
   "outputs": [
    {
     "name": "stdout",
     "output_type": "stream",
     "text": [
      "   |   |   \n",
      " 1 | 2 | 3 \n",
      "   |   |   \n",
      "-----------\n",
      "   |   |   \n",
      " 4 | 5 | 6 \n",
      "   |   |   \n",
      "-----------\n",
      "   |   |   \n",
      " 7 | 8 | 9 \n",
      "   |   |   \n"
     ]
    }
   ],
   "source": [
    "BoardInstructions()"
   ]
  },
  {
   "cell_type": "code",
   "execution_count": 51,
   "metadata": {},
   "outputs": [],
   "source": [
    "def printXOtabla(value, player):\n",
    "    #imprime X u O en la tabla dependiendo el indice y el jugador Xply o Oply\n",
    "    if player == 'Xply':\n",
    "        if value in DicGamSpace:\n",
    "            TTTboard[DicGamSpace[value]] = \"X\"\n",
    "        else:\n",
    "            return print(\"input Number not between 1 to 9\")\n",
    "    elif player == \"Oply\":\n",
    "        if value in DicGamSpace:\n",
    "            TTTboard[DicGamSpace[value]] = \"O\"\n",
    "        else:\n",
    "            return print(\"input Number not between 1 to 9\")\n",
    "    \n",
    "    board = \"\"\n",
    "    for x in TTTboard:\n",
    "        board += x\n",
    "    return print(board)"
   ]
  },
  {
   "cell_type": "code",
   "execution_count": 52,
   "metadata": {
    "scrolled": true
   },
   "outputs": [
    {
     "name": "stdout",
     "output_type": "stream",
     "text": [
      " X |   |   \n",
      " O | O | O \n",
      "   |   |   \n",
      "-----------\n",
      "   |   |   \n",
      " O | O | O \n",
      "   |   |   \n",
      "-----------\n",
      "   |   |   \n",
      " O | O | X \n",
      "   |   |   \n"
     ]
    }
   ],
   "source": [
    "printXOtabla(9,\"Xply\")"
   ]
  },
  {
   "cell_type": "code",
   "execution_count": 63,
   "metadata": {},
   "outputs": [],
   "source": [
    "from random import *"
   ]
  },
  {
   "cell_type": "code",
   "execution_count": 92,
   "metadata": {},
   "outputs": [
    {
     "name": "stdout",
     "output_type": "stream",
     "text": [
      "1\n"
     ]
    }
   ],
   "source": [
    "print(randint(1,2))"
   ]
  },
  {
   "cell_type": "code",
   "execution_count": 93,
   "metadata": {},
   "outputs": [],
   "source": [
    "def SelRandPlayer(num):\n",
    "    randnum = 0\n",
    "    if num == 1 or num == 2:\n",
    "        randnum = randint(1,2)\n",
    "        if randnum == 1:\n",
    "            return \"Xply\"\n",
    "        else:\n",
    "            return \"Oply\"\n",
    "    else:\n",
    "        return 0"
   ]
  },
  {
   "cell_type": "code",
   "execution_count": 100,
   "metadata": {},
   "outputs": [
    {
     "data": {
      "text/plain": [
       "'Xply'"
      ]
     },
     "execution_count": 100,
     "metadata": {},
     "output_type": "execute_result"
    }
   ],
   "source": [
    "SelRandPlayer(1)"
   ]
  },
  {
   "cell_type": "code",
   "execution_count": 101,
   "metadata": {},
   "outputs": [],
   "source": [
    "import random"
   ]
  },
  {
   "cell_type": "code",
   "execution_count": 116,
   "metadata": {},
   "outputs": [
    {
     "data": {
      "text/plain": [
       "4"
      ]
     },
     "execution_count": 116,
     "metadata": {},
     "output_type": "execute_result"
    }
   ],
   "source": [
    "random.randrange(1,10)"
   ]
  },
  {
   "cell_type": "code",
   "execution_count": 121,
   "metadata": {},
   "outputs": [
    {
     "name": "stdout",
     "output_type": "stream",
     "text": [
      "Hola\n",
      "Mundo\n"
     ]
    }
   ],
   "source": [
    "print(\"Hola\\nMundo\")"
   ]
  },
  {
   "cell_type": "code",
   "execution_count": 125,
   "metadata": {},
   "outputs": [
    {
     "name": "stdout",
     "output_type": "stream",
     "text": [
      "no está\n"
     ]
    }
   ],
   "source": [
    "x = [1,2,3]\n",
    "y = 5\n",
    "if y not in x:\n",
    "    print(\"no está\")\n",
    "else:\n",
    "    print(\"está\")"
   ]
  },
  {
   "cell_type": "code",
   "execution_count": 175,
   "metadata": {},
   "outputs": [],
   "source": [
    "ax = [1,2,3]\n",
    "ay = [1,2,3,4,5,6]"
   ]
  },
  {
   "cell_type": "code",
   "execution_count": 176,
   "metadata": {},
   "outputs": [],
   "source": [
    "def checklist(num1):\n",
    "    y1 = num1\n",
    "    for x in y1:\n",
    "        if x in ay:\n",
    "            y1.remove(x)\n",
    "            print(x)\n",
    "    if y1 == []:\n",
    "        print(\"ok\")\n",
    "        print(y1)\n",
    "    elif y1 != []:\n",
    "        print(\"no ok\")\n",
    "        print(y1)"
   ]
  },
  {
   "cell_type": "code",
   "execution_count": 177,
   "metadata": {},
   "outputs": [
    {
     "name": "stdout",
     "output_type": "stream",
     "text": [
      "1\n",
      "3\n",
      "no ok\n",
      "[2]\n"
     ]
    }
   ],
   "source": [
    "checklist(ax)"
   ]
  },
  {
   "cell_type": "code",
   "execution_count": null,
   "metadata": {},
   "outputs": [],
   "source": []
  }
 ],
 "metadata": {
  "kernelspec": {
   "display_name": "Python 3",
   "language": "python",
   "name": "python3"
  },
  "language_info": {
   "codemirror_mode": {
    "name": "ipython",
    "version": 3
   },
   "file_extension": ".py",
   "mimetype": "text/x-python",
   "name": "python",
   "nbconvert_exporter": "python",
   "pygments_lexer": "ipython3",
   "version": "3.7.7"
  }
 },
 "nbformat": 4,
 "nbformat_minor": 4
}

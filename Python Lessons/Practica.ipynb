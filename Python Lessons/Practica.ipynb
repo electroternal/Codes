{
 "cells": [
  {
   "cell_type": "code",
   "execution_count": 18,
   "metadata": {},
   "outputs": [
    {
     "name": "stdout",
     "output_type": "stream",
     "text": [
      "Escribe un nombre => Alexander\n",
      "Yo Alexander soy el cabrón más grande del mundo\n"
     ]
    }
   ],
   "source": [
    "x = input(\"Escribe un nombre => \")\n",
    "y = (\"Yo {} soy el cabrón más grande del mundo\".format(x))\n",
    "print(y)"
   ]
  },
  {
   "cell_type": "code",
   "execution_count": 19,
   "metadata": {},
   "outputs": [
    {
     "name": "stdout",
     "output_type": "stream",
     "text": [
      "escribe un numero => 25\n",
      "00000025\n"
     ]
    }
   ],
   "source": [
    "x = input(\"escribe un numero => \")\n",
    "y = x.zfill(8)\n",
    "print(y)"
   ]
  },
  {
   "cell_type": "code",
   "execution_count": 24,
   "metadata": {},
   "outputs": [
    {
     "name": "stdout",
     "output_type": "stream",
     "text": [
      "2\n"
     ]
    }
   ],
   "source": [
    "x = \"abc abc cba cba\"\n",
    "y  = \"abc\"\n",
    "print(x.count(y))"
   ]
  },
  {
   "cell_type": "code",
   "execution_count": 28,
   "metadata": {},
   "outputs": [
    {
     "name": "stdout",
     "output_type": "stream",
     "text": [
      "############## Este es el String en el centro ##############\n"
     ]
    }
   ],
   "source": [
    "x = \" Este es el String en el centro \"\n",
    "y = x.center(60,\"#\")\n",
    "print(y)"
   ]
  },
  {
   "cell_type": "code",
   "execution_count": null,
   "metadata": {},
   "outputs": [],
   "source": [
    "x.encode"
   ]
  }
 ],
 "metadata": {
  "kernelspec": {
   "display_name": "Python 3",
   "language": "python",
   "name": "python3"
  },
  "language_info": {
   "codemirror_mode": {
    "name": "ipython",
    "version": 3
   },
   "file_extension": ".py",
   "mimetype": "text/x-python",
   "name": "python",
   "nbconvert_exporter": "python",
   "pygments_lexer": "ipython3",
   "version": "3.7.7"
  }
 },
 "nbformat": 4,
 "nbformat_minor": 4
}

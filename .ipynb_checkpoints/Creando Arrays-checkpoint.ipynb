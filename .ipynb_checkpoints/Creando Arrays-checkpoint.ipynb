{
 "cells": [
  {
   "cell_type": "markdown",
   "metadata": {},
   "source": [
    "<h1>Numpy</h1>"
   ]
  },
  {
   "cell_type": "code",
   "execution_count": 9,
   "metadata": {},
   "outputs": [
    {
     "name": "stdout",
     "output_type": "stream",
     "text": [
      "<class 'numpy.ndarray'>\n"
     ]
    }
   ],
   "source": [
    "import numpy as np\n",
    "\n",
    "#se crea un np array de rango 1,\n",
    "un_array = np.array([7, 77, 777, 1234])\n",
    "print(type(un_array))"
   ]
  },
  {
   "cell_type": "code",
   "execution_count": 10,
   "metadata": {},
   "outputs": [
    {
     "name": "stdout",
     "output_type": "stream",
     "text": [
      "<class 'tuple'>\n",
      "(4,)\n",
      "[   7   77  777 1234]\n"
     ]
    }
   ],
   "source": [
    "print(type(un_array.shape))\n",
    "\n",
    "print(un_array.shape)\n",
    "\n",
    "print(un_array)"
   ]
  },
  {
   "cell_type": "code",
   "execution_count": 11,
   "metadata": {},
   "outputs": [
    {
     "name": "stdout",
     "output_type": "stream",
     "text": [
      "7\n",
      "77\n",
      "777\n",
      "4\n"
     ]
    }
   ],
   "source": [
    "# accediendo a las variables\n",
    "\n",
    "print(un_array[0])\n",
    "print(un_array[1])\n",
    "print(un_array[2])\n",
    "un_array[2] = 4\n",
    "print(un_array[2])"
   ]
  },
  {
   "cell_type": "code",
   "execution_count": 14,
   "metadata": {},
   "outputs": [
    {
     "name": "stdout",
     "output_type": "stream",
     "text": [
      "la forma de este array es =>  (3, 3)\n"
     ]
    }
   ],
   "source": [
    "otro = np.array([[5,10,15],[10,20,30],[20,40,60]])\n",
    "\n",
    "print(\"la forma de este array es => \", otro.shape)\n"
   ]
  },
  {
   "cell_type": "code",
   "execution_count": 16,
   "metadata": {},
   "outputs": [
    {
     "name": "stdout",
     "output_type": "stream",
     "text": [
      "20\n",
      "[[ 5 10 15]\n",
      " [10 20 30]\n",
      " [20 40 60]]\n"
     ]
    }
   ],
   "source": [
    "#así se busca en el array\n",
    "print(otro[1,1])\n",
    "# así se imprime completo\n",
    "print(otro)"
   ]
  },
  {
   "cell_type": "markdown",
   "metadata": {},
   "source": [
    "$e^{i\\pi} + 1 = 0$\n",
    "\n",
    "$$e^x=\\sum_{i=0}^\\infty \\frac{1}{i!}x^i$$\n",
    "\n",
    "$ \\frac{x^5-{7^{x+1}}}{2-x^2} $"
   ]
  },
  {
   "cell_type": "markdown",
   "metadata": {},
   "source": [
    "$ I^{n \\times n} =\n",
    "\\left( \\begin{array}{cccc}\n",
    "11 & 12 & 13 \\\\\n",
    "22 & 23 & 24 \\\\\n",
    "35 & 36 & 37 \\\\\n",
    "\\end{array} \\right) $"
   ]
  },
  {
   "cell_type": "markdown",
   "metadata": {},
   "source": [
    "<h1>Distintas maneras de crear nd arrays</h1>"
   ]
  },
  {
   "cell_type": "code",
   "execution_count": 23,
   "metadata": {},
   "outputs": [
    {
     "name": "stdout",
     "output_type": "stream",
     "text": [
      "[[0. 0. 0. ... 0. 0. 0.]\n",
      " [0. 0. 0. ... 0. 0. 0.]\n",
      " [0. 0. 0. ... 0. 0. 0.]\n",
      " ...\n",
      " [0. 0. 0. ... 0. 0. 0.]\n",
      " [0. 0. 0. ... 0. 0. 0.]\n",
      " [0. 0. 0. ... 0. 0. 0.]]\n"
     ]
    }
   ],
   "source": [
    "# crear array lleno de ceros\n",
    "ej1 = np.zeros((1080,1920))\n",
    "print(ej1)"
   ]
  },
  {
   "cell_type": "code",
   "execution_count": 21,
   "metadata": {},
   "outputs": [
    {
     "name": "stdout",
     "output_type": "stream",
     "text": [
      "[[9.1 9.1]\n",
      " [9.1 9.1]]\n"
     ]
    }
   ],
   "source": [
    "# creando un array lleno de un valor determinado (flats por ejemplos)\n",
    "ej2 = np.full((2,2), 9.1)\n",
    "print(ej2)"
   ]
  },
  {
   "cell_type": "code",
   "execution_count": 47,
   "metadata": {},
   "outputs": [
    {
     "name": "stdout",
     "output_type": "stream",
     "text": [
      "[[1. 0. 0. 0. 0. 0. 0.]\n",
      " [0. 1. 0. 0. 0. 0. 0.]\n",
      " [0. 0. 1. 0. 0. 0. 0.]\n",
      " [0. 0. 0. 1. 0. 0. 0.]\n",
      " [0. 0. 0. 0. 1. 0. 0.]\n",
      " [0. 0. 0. 0. 0. 1. 0.]\n",
      " [0. 0. 0. 0. 0. 0. 1.]]\n"
     ]
    }
   ],
   "source": [
    "#creando un array 2x2 condiagonal en \"unos\" y el resto cero\n",
    "ej3 = np.eye(7,7)\n",
    "print(ej3)"
   ]
  },
  {
   "cell_type": "code",
   "execution_count": 31,
   "metadata": {},
   "outputs": [
    {
     "name": "stdout",
     "output_type": "stream",
     "text": [
      "[[[1. 1.]\n",
      "  [1. 1.]\n",
      "  [1. 1.]\n",
      "  [1. 1.]\n",
      "  [1. 1.]\n",
      "  [1. 1.]\n",
      "  [1. 1.]]\n",
      "\n",
      " [[1. 1.]\n",
      "  [1. 1.]\n",
      "  [1. 1.]\n",
      "  [1. 1.]\n",
      "  [1. 1.]\n",
      "  [1. 1.]\n",
      "  [1. 1.]]\n",
      "\n",
      " [[1. 1.]\n",
      "  [1. 1.]\n",
      "  [1. 1.]\n",
      "  [1. 1.]\n",
      "  [1. 1.]\n",
      "  [1. 1.]\n",
      "  [1. 1.]]\n",
      "\n",
      " [[1. 1.]\n",
      "  [1. 1.]\n",
      "  [1. 1.]\n",
      "  [1. 1.]\n",
      "  [1. 1.]\n",
      "  [1. 1.]\n",
      "  [1. 1.]]\n",
      "\n",
      " [[1. 1.]\n",
      "  [1. 1.]\n",
      "  [1. 1.]\n",
      "  [1. 1.]\n",
      "  [1. 1.]\n",
      "  [1. 1.]\n",
      "  [1. 1.]]\n",
      "\n",
      " [[1. 1.]\n",
      "  [1. 1.]\n",
      "  [1. 1.]\n",
      "  [1. 1.]\n",
      "  [1. 1.]\n",
      "  [1. 1.]\n",
      "  [1. 1.]]\n",
      "\n",
      " [[1. 1.]\n",
      "  [1. 1.]\n",
      "  [1. 1.]\n",
      "  [1. 1.]\n",
      "  [1. 1.]\n",
      "  [1. 1.]\n",
      "  [1. 1.]]\n",
      "\n",
      " [[1. 1.]\n",
      "  [1. 1.]\n",
      "  [1. 1.]\n",
      "  [1. 1.]\n",
      "  [1. 1.]\n",
      "  [1. 1.]\n",
      "  [1. 1.]]\n",
      "\n",
      " [[1. 1.]\n",
      "  [1. 1.]\n",
      "  [1. 1.]\n",
      "  [1. 1.]\n",
      "  [1. 1.]\n",
      "  [1. 1.]\n",
      "  [1. 1.]]\n",
      "\n",
      " [[1. 1.]\n",
      "  [1. 1.]\n",
      "  [1. 1.]\n",
      "  [1. 1.]\n",
      "  [1. 1.]\n",
      "  [1. 1.]\n",
      "  [1. 1.]]]\n"
     ]
    }
   ],
   "source": [
    "#creandos arrays de unos\n",
    "ej4 = np.ones((10,7,2))\n",
    "print(ej4)"
   ]
  },
  {
   "cell_type": "code",
   "execution_count": 32,
   "metadata": {},
   "outputs": [
    {
     "name": "stdout",
     "output_type": "stream",
     "text": [
      "[[0.29565546 0.04349255 0.65762896 0.4633301  0.30702449]\n",
      " [0.15617622 0.16073781 0.51253589 0.3882338  0.31069828]\n",
      " [0.17845885 0.99000456 0.46435615 0.00742865 0.58322023]\n",
      " [0.82271399 0.01368704 0.96757575 0.18353372 0.83313702]\n",
      " [0.06732017 0.66924262 0.53946224 0.96273392 0.49802463]]\n"
     ]
    }
   ],
   "source": [
    "# creamos un array de flotantes aleatorios entre 0 y 1\n",
    "ej5 = np.random.random((5,5))\n",
    "print(ej5)"
   ]
  },
  {
   "cell_type": "markdown",
   "metadata": {},
   "source": [
    "<h1>Array de índices</h1>"
   ]
  },
  {
   "cell_type": "code",
   "execution_count": 33,
   "metadata": {},
   "outputs": [
    {
     "name": "stdout",
     "output_type": "stream",
     "text": [
      "[[11 12 13]\n",
      " [21 22 23]\n",
      " [31 32 33]\n",
      " [41 42 43]]\n"
     ]
    }
   ],
   "source": [
    "#creamos otro array\n",
    "array_a = np.array([[11,12,13],[21,22,23],[31,32,33],[41,42,43]])\n",
    "print(array_a)"
   ]
  },
  {
   "cell_type": "code",
   "execution_count": 35,
   "metadata": {},
   "outputs": [
    {
     "name": "stdout",
     "output_type": "stream",
     "text": [
      "Indices para filas [0 1 2 3]\n",
      "Indices para columnas [0 1 2 0]\n"
     ]
    }
   ],
   "source": [
    "#creamos 2 arrays con números enteros que usaremos como indices\n",
    "cols = np.array([0,1,2,0])\n",
    "rows = np.arange(4)\n",
    "print(\"Indices para filas\", rows)\n",
    "print(\"Indices para columnas\", cols)"
   ]
  },
  {
   "cell_type": "code",
   "execution_count": 36,
   "metadata": {},
   "outputs": [
    {
     "name": "stdout",
     "output_type": "stream",
     "text": [
      "== 0 == 0 ==\n",
      "== 1 == 1 ==\n",
      "== 2 == 2 ==\n",
      "== 3 == 0 ==\n"
     ]
    }
   ],
   "source": [
    "#imprimimos los indices tomando uno de cada array  de rows y cols\n",
    "for row,col in zip(rows,cols):\n",
    "    print(\"==\", row, \"==\", col, \"==\")"
   ]
  },
  {
   "cell_type": "code",
   "execution_count": 38,
   "metadata": {},
   "outputs": [
    {
     "name": "stdout",
     "output_type": "stream",
     "text": [
      "para imprimir contenido en los indices del array_a son:  [11 22 33 41]\n"
     ]
    }
   ],
   "source": [
    "# los valores de cada fila en el array_a usando rows y cols\n",
    "print(\"para imprimir contenido en los indices del array_a son: \", array_a[rows,cols])"
   ]
  },
  {
   "cell_type": "code",
   "execution_count": 39,
   "metadata": {},
   "outputs": [
    {
     "name": "stdout",
     "output_type": "stream",
     "text": [
      "[[11 12 13]\n",
      " [21 22 23]\n",
      " [31 32 33]\n",
      " [41 42 43]]\n",
      "[[1011   12   13]\n",
      " [  21 1022   23]\n",
      " [  31   32 1033]\n",
      " [1041   42   43]]\n"
     ]
    }
   ],
   "source": [
    "#operar con los valores seleccionados\n",
    "print(array_a)\n",
    "array_a[rows,cols] += 1000\n",
    "print(array_a)"
   ]
  },
  {
   "cell_type": "markdown",
   "metadata": {},
   "source": [
    "<h1>Indexando Booleano</h1>\n",
    "<h4>Indexando Booleano para cambiar elementos</h4>"
   ]
  },
  {
   "cell_type": "code",
   "execution_count": 40,
   "metadata": {},
   "outputs": [
    {
     "name": "stdout",
     "output_type": "stream",
     "text": [
      "[[11 12]\n",
      " [21 22]\n",
      " [31 32]]\n",
      "__________\n",
      "(3, 2)\n"
     ]
    }
   ],
   "source": [
    "#creamos un array de 3x2\n",
    "array_b = np.array([[11,12], [21, 22], [31,32]])\n",
    "print(array_b)\n",
    "print(\"__________\")\n",
    "print(array_b.shape)\n"
   ]
  },
  {
   "cell_type": "code",
   "execution_count": 42,
   "metadata": {},
   "outputs": [
    {
     "name": "stdout",
     "output_type": "stream",
     "text": [
      "[[False False]\n",
      " [ True  True]\n",
      " [ True  True]]\n"
     ]
    }
   ],
   "source": [
    "#crear un filtro es muy facil en numpy\n",
    "filtro = (array_b > 15)\n",
    "print(filtro)"
   ]
  },
  {
   "cell_type": "code",
   "execution_count": 43,
   "metadata": {},
   "outputs": [
    {
     "name": "stdout",
     "output_type": "stream",
     "text": [
      "[21 22 31 32]\n"
     ]
    }
   ],
   "source": [
    "#entonces ahora podemos aplicar el fitro a nuestro array\n",
    "filtrado = array_b[filtro]\n",
    "print(filtrado)"
   ]
  },
  {
   "cell_type": "code",
   "execution_count": 45,
   "metadata": {},
   "outputs": [
    {
     "name": "stdout",
     "output_type": "stream",
     "text": [
      "[12 22 32]\n",
      "[21 22 31 32]\n"
     ]
    }
   ],
   "source": [
    "#no es necesario primero crear el filtro y luego aplicarlo, podemos hacerlo al unísono\n",
    "print(array_b[(array_b % 2== 0)])\n",
    "print(array_b[array_b > 15])"
   ]
  },
  {
   "cell_type": "markdown",
   "metadata": {},
   "source": [
    "<h3>El uso principal de este tipo de filtros es poder modificar los valores del array que cumplan con cierto criterio</h3>"
   ]
  },
  {
   "cell_type": "code",
   "execution_count": 48,
   "metadata": {},
   "outputs": [
    {
     "name": "stdout",
     "output_type": "stream",
     "text": [
      "[[  11 1012]\n",
      " [  21 1022]\n",
      " [  31 1032]]\n"
     ]
    }
   ],
   "source": [
    "array_b[array_b % 2 == 0] += 1000\n",
    "print(array_b)"
   ]
  },
  {
   "cell_type": "markdown",
   "metadata": {},
   "source": [
    "<h1>Cortando los Arrays (Slice)</h1>\n",
    "<h4>Sirve para aislar una \"rub-region\" de la matriz de un ndarray</h4>"
   ]
  },
  {
   "cell_type": "code",
   "execution_count": 82,
   "metadata": {},
   "outputs": [
    {
     "name": "stdout",
     "output_type": "stream",
     "text": [
      "[[11 12 13 14 15]\n",
      " [21 22 23 24 25]\n",
      " [31 32 33 34 35]\n",
      " [41 42 43 44 45]]\n"
     ]
    }
   ],
   "source": [
    "un_array = np.array([[11,12,13,14,15],[21,22,23,24,25],[31,32,33,34,35], [41,42,43,44,45]])\n",
    "print(un_array)"
   ]
  },
  {
   "cell_type": "code",
   "execution_count": 83,
   "metadata": {},
   "outputs": [
    {
     "name": "stdout",
     "output_type": "stream",
     "text": [
      "[[22 23]\n",
      " [32 33]]\n"
     ]
    }
   ],
   "source": [
    "#creamos un_slice de 2x2 a partir de un_array\n",
    "un_slice = un_array[1:3,1:3]\n",
    "print(un_slice)"
   ]
  },
  {
   "cell_type": "code",
   "execution_count": 84,
   "metadata": {},
   "outputs": [
    {
     "name": "stdout",
     "output_type": "stream",
     "text": [
      "slice:  22\n"
     ]
    }
   ],
   "source": [
    "#imprimimos el valor fila 0 columna 0 del slice\n",
    "#como vemos enla salida, el slice genera un nuevo indice\n",
    "print(\"slice: \", un_slice[0,0])"
   ]
  },
  {
   "cell_type": "code",
   "execution_count": 85,
   "metadata": {},
   "outputs": [
    {
     "name": "stdout",
     "output_type": "stream",
     "text": [
      "slice:  122\n"
     ]
    }
   ],
   "source": [
    "#ahora sumaremos 100 al valor de la posicion (0,0) del indice\n",
    "#ahora veremos como podremos sumar sin problema alguno\n",
    "un_slice[0,0] += 100\n",
    "print(\"slice: \", un_slice[0,0])"
   ]
  },
  {
   "cell_type": "code",
   "execution_count": 86,
   "metadata": {},
   "outputs": [
    {
     "name": "stdout",
     "output_type": "stream",
     "text": [
      "Array original:  122\n"
     ]
    }
   ],
   "source": [
    "#ahora imprimimos la posición (0,1) del array original\n",
    "print(\"Array original: \", un_array[1,1])"
   ]
  },
  {
   "cell_type": "markdown",
   "metadata": {},
   "source": [
    "<h4>¡¡¡Los array originales se modifican!!!</h4>"
   ]
  },
  {
   "cell_type": "code",
   "execution_count": 87,
   "metadata": {},
   "outputs": [
    {
     "name": "stdout",
     "output_type": "stream",
     "text": [
      "[[ 11  12  13  14  15]\n",
      " [ 21 122  23  24  25]\n",
      " [ 31  32  33  34  35]\n",
      " [ 41  42  43  44  45]]\n"
     ]
    }
   ],
   "source": [
    "#confirmamos el array original\n",
    "print(un_array)"
   ]
  },
  {
   "cell_type": "markdown",
   "metadata": {},
   "source": [
    "<h2>Importante</h2>\n",
    "<h4>Si quieres crear un nuevo array araiz del un_slice...</h4>"
   ]
  },
  {
   "cell_type": "code",
   "execution_count": 88,
   "metadata": {},
   "outputs": [
    {
     "name": "stdout",
     "output_type": "stream",
     "text": [
      "[[122  23]\n",
      " [ 32  33]]\n"
     ]
    }
   ],
   "source": [
    "nuevo_array = np.array(un_slice)\n",
    "print(nuevo_array)"
   ]
  },
  {
   "cell_type": "code",
   "execution_count": 99,
   "metadata": {},
   "outputs": [
    {
     "name": "stdout",
     "output_type": "stream",
     "text": [
      "float64\n",
      "[[1. 2. 3. 4.]\n",
      " [5. 6. 7. 8.]]\n"
     ]
    }
   ],
   "source": [
    "#para forzar el typo de data hay que añadirlo alfinal con dtype=np.float64 or dtype=np.int64\n",
    "ejem1 = np.array([[1,2,3,4],[5,6,7,8]], dtype=np.float64)\n",
    "print(ejem1.dtype)\n",
    "print(ejem1)"
   ]
  },
  {
   "cell_type": "code",
   "execution_count": 100,
   "metadata": {},
   "outputs": [
    {
     "name": "stdout",
     "output_type": "stream",
     "text": [
      "int64\n",
      "[[1 2 3 4]\n",
      " [5 6 7 8]]\n"
     ]
    }
   ],
   "source": [
    "ejem2 = np.array([[1.2,2.3,3.4,4.5],[5.6,6.7,7.8,8.9]], dtype=np.int64)\n",
    "print(ejem2.dtype)\n",
    "print(ejem2)"
   ]
  },
  {
   "cell_type": "code",
   "execution_count": 111,
   "metadata": {},
   "outputs": [
    {
     "name": "stdout",
     "output_type": "stream",
     "text": [
      "[[2.28104601 2.71093016 0.71390093 2.57796847 2.21415636]\n",
      " [2.2211738  2.53181828 2.53000237 2.15248449 3.43441652]]\n"
     ]
    }
   ],
   "source": [
    "#generar numeros aleatorios en un array\n",
    "arr = 2 + np.random.randn(2,5)\n",
    "print(arr)"
   ]
  },
  {
   "cell_type": "code",
   "execution_count": 112,
   "metadata": {},
   "outputs": [
    {
     "name": "stdout",
     "output_type": "stream",
     "text": [
      "2.336789736959178\n"
     ]
    }
   ],
   "source": [
    "#calcular el promedio de un array\n",
    "print(arr.mean())"
   ]
  },
  {
   "cell_type": "code",
   "execution_count": 114,
   "metadata": {},
   "outputs": [
    {
     "name": "stdout",
     "output_type": "stream",
     "text": [
      "[2.2511099  2.62137422 1.62195165 2.36522648 2.82428644]\n",
      "[2.09960038 2.57397909]\n"
     ]
    }
   ],
   "source": [
    "#calcular promedio fila por fila\n",
    "#eje de 0 = columnas (eje de y)\n",
    "#eje de 1 = filas (eje de x)\n",
    "print(arr.mean(axis = 0))\n",
    "print(arr.mean(axis = 1))"
   ]
  },
  {
   "cell_type": "code",
   "execution_count": 115,
   "metadata": {},
   "outputs": [
    {
     "name": "stdout",
     "output_type": "stream",
     "text": [
      "[ 0.69557583  0.05308372  0.84371665 -1.12960393 -0.48876017 -0.59208411\n",
      " -1.18992018 -1.02500907 -0.43643052  0.01743687]\n"
     ]
    }
   ],
   "source": [
    "#creamos arrays de dies elementos aleatorios\n",
    "desordenado = np.random.randn(10)\n",
    "print(desordenado)"
   ]
  },
  {
   "cell_type": "code",
   "execution_count": 116,
   "metadata": {},
   "outputs": [
    {
     "name": "stdout",
     "output_type": "stream",
     "text": [
      "[-1.18992018 -1.12960393 -1.02500907 -0.59208411 -0.48876017 -0.43643052\n",
      "  0.01743687  0.05308372  0.69557583  0.84371665]\n"
     ]
    }
   ],
   "source": [
    "#creamos una copia\n",
    "ordenado = np.array(desordenado)\n",
    "# lo ordenamos\n",
    "ordenado.sort()\n",
    "print(ordenado)\n"
   ]
  },
  {
   "cell_type": "code",
   "execution_count": 118,
   "metadata": {},
   "outputs": [
    {
     "name": "stdout",
     "output_type": "stream",
     "text": [
      "[1 2 4]\n"
     ]
    }
   ],
   "source": [
    "#buscando elementos unicos\n",
    "array123 = np.array([1,2,1,4,2,1,4,2])\n",
    "print(np.unique(array123))\n"
   ]
  },
  {
   "cell_type": "code",
   "execution_count": 119,
   "metadata": {},
   "outputs": [
    {
     "name": "stdout",
     "output_type": "stream",
     "text": [
      "['escritorio' 'silla' 'mesa']\n",
      "['escritorio' 'silla' 'lampara']\n"
     ]
    }
   ],
   "source": [
    "#operaciones de conjunto\n",
    "n1 = np.array([\"escritorio\", \"silla\", \"mesa\"])\n",
    "n2 = np.array([\"escritorio\", \"silla\", \"lampara\"])\n",
    "print(n1)\n",
    "print(n2)"
   ]
  },
  {
   "cell_type": "code",
   "execution_count": 122,
   "metadata": {},
   "outputs": [
    {
     "name": "stdout",
     "output_type": "stream",
     "text": [
      "['escritorio' 'silla']\n"
     ]
    }
   ],
   "source": [
    "#intersección\n",
    "print( np.intersect1d (n1, n2) )"
   ]
  },
  {
   "cell_type": "code",
   "execution_count": 124,
   "metadata": {},
   "outputs": [
    {
     "name": "stdout",
     "output_type": "stream",
     "text": [
      "['escritorio' 'lampara' 'mesa' 'silla']\n"
     ]
    }
   ],
   "source": [
    "#union en 1d (se unen todos los elementos que no se repitan)\n",
    "print(np.union1d(n1,n2))"
   ]
  },
  {
   "cell_type": "code",
   "execution_count": 127,
   "metadata": {},
   "outputs": [
    {
     "name": "stdout",
     "output_type": "stream",
     "text": [
      "['mesa']\n",
      "['lampara']\n"
     ]
    }
   ],
   "source": [
    "#elementos de n1 que no están en el n2 o viceversa\n",
    "print(np.setdiff1d(n1,n2))\n",
    "print(np.setdiff1d(n2,n1))"
   ]
  },
  {
   "cell_type": "code",
   "execution_count": 128,
   "metadata": {},
   "outputs": [
    {
     "name": "stdout",
     "output_type": "stream",
     "text": [
      "[ True  True False]\n"
     ]
    }
   ],
   "source": [
    "#elementos del n1 que si están en el n2\n",
    "print(np.in1d(n1,n2))"
   ]
  },
  {
   "cell_type": "markdown",
   "metadata": {},
   "source": [
    "<h2>Operaciones Frecuentes</h2>"
   ]
  },
  {
   "cell_type": "code",
   "execution_count": 131,
   "metadata": {},
   "outputs": [
    {
     "name": "stdout",
     "output_type": "stream",
     "text": [
      "66\n",
      "[[11 12]\n",
      " [21 22]]\n"
     ]
    }
   ],
   "source": [
    "#sumamos todos los elementos de un array\n",
    "ex1 = np.array([[11,12],[21,22]])\n",
    "print(np.sum(ex1))\n",
    "print(ex1)"
   ]
  },
  {
   "cell_type": "code",
   "execution_count": 130,
   "metadata": {},
   "outputs": [
    {
     "name": "stdout",
     "output_type": "stream",
     "text": [
      "[32 34]\n",
      "[23 43]\n"
     ]
    }
   ],
   "source": [
    "#sumamos las columnas eje 0\n",
    "print(np.sum(ex1, axis=0))\n",
    "##sumamos las filas eje 1\n",
    "print(np.sum(ex1, axis=1))"
   ]
  },
  {
   "cell_type": "markdown",
   "metadata": {},
   "source": [
    "<h4>Reformateando un array (importante)</h4>"
   ]
  },
  {
   "cell_type": "code",
   "execution_count": 132,
   "metadata": {},
   "outputs": [
    {
     "name": "stdout",
     "output_type": "stream",
     "text": [
      "[ 0  1  2  3  4  5  6  7  8  9 10 11 12 13 14 15 16 17 18 19]\n"
     ]
    },
    {
     "data": {
      "text/plain": [
       "(2, 5)"
      ]
     },
     "execution_count": 132,
     "metadata": {},
     "output_type": "execute_result"
    }
   ],
   "source": [
    "#creamos un array\n",
    "arr5 = np.arange(20)\n",
    "print(arr5)\n",
    "arr.shape"
   ]
  },
  {
   "cell_type": "code",
   "execution_count": 141,
   "metadata": {},
   "outputs": [
    {
     "name": "stdout",
     "output_type": "stream",
     "text": [
      "[[ 0  1  2  3  4]\n",
      " [ 5  6  7  8  9]\n",
      " [10 11 12 13 14]\n",
      " [15 16 17 18 19]]\n"
     ]
    }
   ],
   "source": [
    "#cambiamos su forma\n",
    "reshaped_arr5 = arr5.reshape(4,5)\n",
    "print(reshaped_arr5)"
   ]
  },
  {
   "cell_type": "code",
   "execution_count": 146,
   "metadata": {},
   "outputs": [
    {
     "name": "stdout",
     "output_type": "stream",
     "text": [
      "[[11 12]\n",
      " [21 22]]\n"
     ]
    },
    {
     "data": {
      "text/plain": [
       "array([[11, 21],\n",
       "       [12, 22]])"
      ]
     },
     "execution_count": 146,
     "metadata": {},
     "output_type": "execute_result"
    }
   ],
   "source": [
    "#transponer o transposicionar un array\n",
    "ex5 = np.array([[11,12],[21,22]])\n",
    "print(ex5)\n",
    "ex5.T"
   ]
  },
  {
   "cell_type": "code",
   "execution_count": 147,
   "metadata": {},
   "outputs": [
    {
     "data": {
      "text/plain": [
       "array([[0.13712028, 0.22282672, 0.62965418, 0.78385776],\n",
       "       [0.46032394, 0.31234048, 0.06738483, 0.08971854],\n",
       "       [0.92046147, 0.84143929, 0.85121703, 0.48393575],\n",
       "       [0.42339046, 0.96607448, 0.61424789, 0.7877312 ]])"
      ]
     },
     "execution_count": 147,
     "metadata": {},
     "output_type": "execute_result"
    }
   ],
   "source": [
    "#where ... Muy útil\n",
    "mat = np.random.rand(4,4)\n",
    "mat"
   ]
  },
  {
   "cell_type": "code",
   "execution_count": 150,
   "metadata": {},
   "outputs": [
    {
     "data": {
      "text/plain": [
       "array([[  -1,   -1, 1000, 1000],\n",
       "       [  -1,   -1,   -1,   -1],\n",
       "       [1000, 1000, 1000,   -1],\n",
       "       [  -1, 1000, 1000, 1000]])"
      ]
     },
     "execution_count": 150,
     "metadata": {},
     "output_type": "execute_result"
    }
   ],
   "source": [
    "#le paso array con condición, pones valor si True, Pones valor si False\n",
    "np.where(mat > 0.5, 1000, -1)"
   ]
  },
  {
   "cell_type": "code",
   "execution_count": 158,
   "metadata": {},
   "outputs": [
    {
     "data": {
      "text/plain": [
       "True"
      ]
     },
     "execution_count": 158,
     "metadata": {},
     "output_type": "execute_result"
    }
   ],
   "source": [
    "#comprobar si algun elemento del array es True, no importa si son numeros o boleanos\n",
    "arr_bools = np.array([0,0,1,True,0,False])\n",
    "arr_bools.any()"
   ]
  },
  {
   "cell_type": "code",
   "execution_count": 167,
   "metadata": {},
   "outputs": [
    {
     "data": {
      "text/plain": [
       "False"
      ]
     },
     "execution_count": 167,
     "metadata": {},
     "output_type": "execute_result"
    }
   ],
   "source": [
    "#comprobar si todos los elementos son True\n",
    "arr_bools = np.array([1,1,1])\n",
    "arr_bools.all()"
   ]
  },
  {
   "cell_type": "markdown",
   "metadata": {},
   "source": [
    "<h3>Uniendo Data Sets</h3>"
   ]
  },
  {
   "cell_type": "code",
   "execution_count": 169,
   "metadata": {},
   "outputs": [
    {
     "name": "stdout",
     "output_type": "stream",
     "text": [
      "[[25 12]\n",
      " [46 47]]\n",
      "[[ 4 45]\n",
      " [29 48]]\n"
     ]
    }
   ],
   "source": [
    "k = np.random.randint(low=2, high=50, size=(2,2))\n",
    "print(k)\n",
    "\n",
    "m = np.random.randint(low=2, high=50, size=(2,2))\n",
    "print(m)"
   ]
  },
  {
   "cell_type": "code",
   "execution_count": 171,
   "metadata": {},
   "outputs": [
    {
     "data": {
      "text/plain": [
       "array([[25, 12],\n",
       "       [46, 47],\n",
       "       [ 4, 45],\n",
       "       [29, 48]])"
      ]
     },
     "execution_count": 171,
     "metadata": {},
     "output_type": "execute_result"
    }
   ],
   "source": [
    "#uniendo vertivalmente\n",
    "np.vstack((k,m))"
   ]
  },
  {
   "cell_type": "code",
   "execution_count": 172,
   "metadata": {},
   "outputs": [
    {
     "data": {
      "text/plain": [
       "array([[25, 12,  4, 45],\n",
       "       [46, 47, 29, 48]])"
      ]
     },
     "execution_count": 172,
     "metadata": {},
     "output_type": "execute_result"
    }
   ],
   "source": [
    "#uniendo horizontalmente\n",
    "np.hstack((k,m))"
   ]
  },
  {
   "cell_type": "code",
   "execution_count": 173,
   "metadata": {},
   "outputs": [
    {
     "data": {
      "text/plain": [
       "array([[25, 12],\n",
       "       [46, 47],\n",
       "       [ 4, 45],\n",
       "       [29, 48]])"
      ]
     },
     "execution_count": 173,
     "metadata": {},
     "output_type": "execute_result"
    }
   ],
   "source": [
    "#uniendo vertivalmente\n",
    "np.concatenate([k,m], axis = 0)"
   ]
  },
  {
   "cell_type": "code",
   "execution_count": 174,
   "metadata": {},
   "outputs": [
    {
     "data": {
      "text/plain": [
       "array([[25, 12,  4, 45],\n",
       "       [46, 47, 29, 48]])"
      ]
     },
     "execution_count": 174,
     "metadata": {},
     "output_type": "execute_result"
    }
   ],
   "source": [
    "#uniendo horizontalmente\n",
    "np.concatenate([k,m], axis = 1)"
   ]
  },
  {
   "cell_type": "markdown",
   "metadata": {},
   "source": [
    "<h2>Propagación</h2>"
   ]
  },
  {
   "cell_type": "code",
   "execution_count": 180,
   "metadata": {},
   "outputs": [
    {
     "name": "stdout",
     "output_type": "stream",
     "text": [
      "[[0. 0. 0. 0.]\n",
      " [0. 0. 0. 0.]\n",
      " [0. 0. 0. 0.]\n",
      " [0. 0. 0. 0.]]\n"
     ]
    }
   ],
   "source": [
    "base = np.zeros((4,4))\n",
    "print(base)\n"
   ]
  },
  {
   "cell_type": "code",
   "execution_count": 181,
   "metadata": {},
   "outputs": [
    {
     "name": "stdout",
     "output_type": "stream",
     "text": [
      "[1 0 2 7]\n",
      "(4,)\n"
     ]
    }
   ],
   "source": [
    "row = np.array([1,0,2,7])\n",
    "print(row)\n",
    "print(row.shape)"
   ]
  },
  {
   "cell_type": "code",
   "execution_count": 183,
   "metadata": {},
   "outputs": [
    {
     "name": "stdout",
     "output_type": "stream",
     "text": [
      "[[1. 0. 2. 7.]\n",
      " [1. 0. 2. 7.]\n",
      " [1. 0. 2. 7.]\n",
      " [1. 0. 2. 7.]]\n"
     ]
    }
   ],
   "source": [
    "#propagación lateral\n",
    "y = base + row\n",
    "print(y)"
   ]
  },
  {
   "cell_type": "code",
   "execution_count": 188,
   "metadata": {},
   "outputs": [
    {
     "name": "stdout",
     "output_type": "stream",
     "text": [
      "[[0 1 2 3]]\n"
     ]
    }
   ],
   "source": [
    "#ahora para la propagación horizontal\n",
    "col = np.array([[0,1,2,3]])\n",
    "print(col)"
   ]
  },
  {
   "cell_type": "code",
   "execution_count": 189,
   "metadata": {},
   "outputs": [
    {
     "name": "stdout",
     "output_type": "stream",
     "text": [
      "[[0]\n",
      " [1]\n",
      " [2]\n",
      " [3]]\n"
     ]
    }
   ],
   "source": [
    "#se transpone la fila en columna\n",
    "col = col.T\n",
    "print(col)"
   ]
  },
  {
   "cell_type": "code",
   "execution_count": 190,
   "metadata": {},
   "outputs": [
    {
     "name": "stdout",
     "output_type": "stream",
     "text": [
      "[[0. 0. 0. 0.]\n",
      " [1. 1. 1. 1.]\n",
      " [2. 2. 2. 2.]\n",
      " [3. 3. 3. 3.]]\n"
     ]
    }
   ],
   "source": [
    "y = base + col\n",
    "print(y)"
   ]
  },
  {
   "cell_type": "code",
   "execution_count": 191,
   "metadata": {},
   "outputs": [
    {
     "name": "stdout",
     "output_type": "stream",
     "text": [
      "[1]\n",
      "___________\n",
      "[[1. 1. 1. 1.]\n",
      " [1. 1. 1. 1.]\n",
      " [1. 1. 1. 1.]\n",
      " [1. 1. 1. 1.]]\n"
     ]
    }
   ],
   "source": [
    "arr_x = np.array([1])\n",
    "print(arr_x)\n",
    "print(\"___________\")\n",
    "y = arr_x + base\n",
    "print(y)"
   ]
  },
  {
   "cell_type": "markdown",
   "metadata": {},
   "source": [
    "<h1>Grabar array a disco y recuperarlo del disco</h1>"
   ]
  },
  {
   "cell_type": "code",
   "execution_count": 198,
   "metadata": {},
   "outputs": [],
   "source": [
    "M = np.array([[1,2,3,4],[5,6,7,8],[1,2,3,4],[5,6,7,8]])"
   ]
  },
  {
   "cell_type": "code",
   "execution_count": 199,
   "metadata": {},
   "outputs": [],
   "source": [
    "np.save(\"array_para guardar\", M)"
   ]
  },
  {
   "cell_type": "code",
   "execution_count": 200,
   "metadata": {},
   "outputs": [
    {
     "name": "stdout",
     "output_type": "stream",
     "text": [
      "el array recuperado es:  [[1 2 3 4]\n",
      " [5 6 7 8]\n",
      " [1 2 3 4]\n",
      " [5 6 7 8]]\n"
     ]
    }
   ],
   "source": [
    "recuperar = np.load(\"array_para guardar.npy\")\n",
    "print(\"el array recuperado es: \", recuperar)"
   ]
  }
 ],
 "metadata": {
  "kernelspec": {
   "display_name": "Python 3",
   "language": "python",
   "name": "python3"
  },
  "language_info": {
   "codemirror_mode": {
    "name": "ipython",
    "version": 3
   },
   "file_extension": ".py",
   "mimetype": "text/x-python",
   "name": "python",
   "nbconvert_exporter": "python",
   "pygments_lexer": "ipython3",
   "version": "3.7.7"
  }
 },
 "nbformat": 4,
 "nbformat_minor": 4
}
